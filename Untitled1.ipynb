{
  "nbformat": 4,
  "nbformat_minor": 0,
  "metadata": {
    "colab": {
      "name": "Untitled1.ipynb",
      "provenance": [],
      "collapsed_sections": [],
      "authorship_tag": "ABX9TyP2/jsXTe0DFjR8JuNCxMWe",
      "include_colab_link": true
    },
    "kernelspec": {
      "name": "python3",
      "display_name": "Python 3"
    },
    "language_info": {
      "name": "python"
    }
  },
  "cells": [
    {
      "cell_type": "markdown",
      "metadata": {
        "id": "view-in-github",
        "colab_type": "text"
      },
      "source": [
        "<a href=\"https://colab.research.google.com/github/hanan333/Sprint1/blob/main/Untitled1.ipynb\" target=\"_parent\"><img src=\"https://colab.research.google.com/assets/colab-badge.svg\" alt=\"Open In Colab\"/></a>"
      ]
    },
    {
      "cell_type": "code",
      "execution_count": null,
      "metadata": {
        "colab": {
          "base_uri": "https://localhost:8080/"
        },
        "id": "uctU-07705k7",
        "outputId": "5f2ea119-7ae3-421b-f1a1-e0c67bb6ebb8"
      },
      "outputs": [
        {
          "output_type": "stream",
          "name": "stdout",
          "text": [
            "the coumt is {'g': 2, 'o': 3, 'l': 1, 'e': 1, '.': 1, 'c': 1, 'm': 1}\n"
          ]
        }
      ],
      "source": [
        "#Question 1Write a Python program to count the number of characters (character frequency) in a stringExamble: ('google.com') =>  {'g': 2, 'o': 3, 'l': 1, 'e': 1, '.': 1, 'c': 1, 'm': 1}\n",
        "#Examble: ('google.com') =>  {'g': 2, 'o': 3, 'l': 1, 'e': 1, '.': 1, 'c': 1, 'm': 1}\n",
        "\n",
        "s=\"google.com\"\n",
        "c={}\n",
        "for i in s:\n",
        "    if i in c:\n",
        "      c[i]+=1\n",
        "    else:\n",
        "          c[i]=1\n",
        "print (\"the coumt is\",c)"
      ]
    },
    {
      "cell_type": "code",
      "source": [
        ""
      ],
      "metadata": {
        "id": "5mECAUqo8m4a"
      },
      "execution_count": null,
      "outputs": []
    },
    {
      "cell_type": "code",
      "source": [
        "#Question 2 Write a Python program to get a string from a given string where all occurrences of its first char have been changed to '$', except the first char itself.\n",
        "#Examble => 'restart' => 'resta$t'    'google'  => 'goo$le'\n",
        "def change_char (str1) :\n",
        "    char = str1[0]\n",
        "    str1 = str1.replace (char, '$')\n",
        "    str1 = char + str1 [1 : ]\n",
        "    return str1\n",
        "\n",
        "print (\"the result after replacement is :\\n\",change_char ('nananana'))\n",
        "           "
      ],
      "metadata": {
        "id": "sWGLoNM03aPX",
        "colab": {
          "base_uri": "https://localhost:8080/"
        },
        "outputId": "8ffec1fd-4b0a-449a-ca17-9505ad4381d3"
      },
      "execution_count": null,
      "outputs": [
        {
          "output_type": "stream",
          "name": "stdout",
          "text": [
            "the result after replacement is :\n",
            " na$a$a$a\n"
          ]
        }
      ]
    },
    {
      "cell_type": "code",
      "source": [
        "# Question 3 :Write a Python program to get a single string from two given strings, separated by a space and swap the first two characters of each string.\n",
        "#Examble : 'abc', 'xyz' => xyc abz\n",
        "str1 = input(\"Please Enter First String : \")\n",
        "str2 =input(\"Please Enter Second String : \")\n",
        "\n",
        "x=str1[0:2]\n",
        "\n",
        "str1=str1.replace(str1[0:2],str2[0:2])\n",
        "\n",
        "str2=str2.replace(str2[0:2],x)\n",
        "\n",
        "print(\"Your two strings after replacment is :- \",str1 +\" \" +str2)\n"
      ],
      "metadata": {
        "colab": {
          "base_uri": "https://localhost:8080/"
        },
        "id": "bBvjoIeHeSla",
        "outputId": "ae568a81-478b-4f83-ea4f-18f3028e0b47"
      },
      "execution_count": null,
      "outputs": [
        {
          "output_type": "stream",
          "name": "stdout",
          "text": [
            "Please Enter First String : abc\n",
            "Please Enter Second String : xyz\n",
            "Your two strings after replacment is :-  xyc abz\n"
          ]
        }
      ]
    },
    {
      "cell_type": "code",
      "source": [
        "# Question 4:Write a Python program to add 'ing' at the end of a given string (length should be at least 3). If the given string already ends with 'ing' then add 'ly' instead. If the string length of the given string is less than 3, leave it unchanged.\n",
        "#Examble => ab => ab\n",
        "        #=> abc => abcing \n",
        "        #=> string => stringly\n",
        "a = input('Enter a string  YA GAMIL')\n",
        "b   = a[-3:]\n",
        "if(a[-3:] == 'ing'):\n",
        "    b = a +'ly'\n",
        "elif(len(b) <3):\n",
        "    print(b)\n",
        "else:\n",
        "    b =a+'ing'\n",
        "print(b)"
      ],
      "metadata": {
        "colab": {
          "base_uri": "https://localhost:8080/"
        },
        "id": "Of1WLX4UtWHO",
        "outputId": "2ee64d77-ed4a-4106-bbd3-c1ae5183b249"
      },
      "execution_count": null,
      "outputs": [
        {
          "output_type": "stream",
          "name": "stdout",
          "text": [
            "Enter a string  YA GAMILYA\n",
            "YA\n",
            "YA\n"
          ]
        }
      ]
    },
    {
      "cell_type": "code",
      "source": [
        "\n",
        "# Question 5:write a Python script to display the various Date Time formats.\n",
        "\n",
        "#a) Current date and time\n",
        "#b) Current year\n",
        "#c) Month of year\n",
        "#d) Week number of the year\n",
        "#e) Weekday of the week\n",
        "#f) Day of year\n",
        "#g) Day of the month\n",
        "#h) Day of week\n",
        "#Solution=>\n",
        "#import time\n",
        "#import datetime\n",
        "import time\n",
        "import datetime\n",
        "from datetime import date\n",
        "today=date.today()\n",
        "print (today.ctime())\n",
        "print (today.year)\n",
        "print (today.day)\n",
        "print (today.month)\n",
        "print (datetime.date.today().strftime(\"%W\")) #week of year ##STRING FORMAT TIME\n",
        "print (datetime.date.today().strftime(\"%j\"))# day of year\n",
        "print (datetime.date.today().strftime(\"%d\"))# day of the month\n",
        "print (datetime.date.today().strftime(\"%A\"))# day of the week\n",
        "\n",
        "print (today)"
      ],
      "metadata": {
        "id": "7ez1qKMn0oqD",
        "colab": {
          "base_uri": "https://localhost:8080/"
        },
        "outputId": "bd4284cc-17e1-48eb-c7b2-8bb184936d53"
      },
      "execution_count": null,
      "outputs": [
        {
          "output_type": "stream",
          "name": "stdout",
          "text": [
            "Sun Apr 17 00:00:00 2022\n",
            "2022\n",
            "17\n",
            "4\n",
            "15\n",
            "107\n",
            "17\n",
            "Sunday\n",
            "2022-04-17\n"
          ]
        }
      ]
    },
    {
      "cell_type": "code",
      "source": [
        "\n",
        "# Question 6: write a Python program to print yesterday, today, tomorrow.\n",
        "#Yesterday :  2020-01-17 Today :  2020-01-18    Tomorrow :  2020-01-19\n",
        "#Solution=>mport datetime\n",
        "import datetime \n",
        "today = datetime.date.today()\n",
        "yesterday = today - datetime.timedelta(days = 1)\n",
        "tomorrow = today + datetime.timedelta(days = 1) \n",
        "print('Yesterday : ',yesterday)\n",
        "print('Today : ',today)\n",
        "print('Tomorrow : ',tomorrow)\n",
        "\n"
      ],
      "metadata": {
        "colab": {
          "base_uri": "https://localhost:8080/"
        },
        "id": "VFhZtPgsCcVt",
        "outputId": "64239d65-37a3-42f9-a055-310f5d448d76"
      },
      "execution_count": null,
      "outputs": [
        {
          "output_type": "stream",
          "name": "stdout",
          "text": [
            "Yesterday :  2022-04-16\n",
            "Today :  2022-04-17\n",
            "Tomorrow :  2022-04-18\n"
          ]
        }
      ]
    },
    {
      "cell_type": "code",
      "source": [
        "# Question 7: Write a Python program to add 5 seconds with the current time.\n",
        "import datetime\n",
        "x= datetime.datetime.now()\n",
        "y = x + datetime.timedelta(0,5)\n",
        "print(x.time())\n",
        "print(y.time())\n",
        "\n"
      ],
      "metadata": {
        "colab": {
          "base_uri": "https://localhost:8080/"
        },
        "id": "Z9eAMtToExTh",
        "outputId": "56131cd8-46ec-4808-fb60-28c63875397b"
      },
      "execution_count": null,
      "outputs": [
        {
          "output_type": "stream",
          "name": "stdout",
          "text": [
            "15:15:16.289720\n",
            "15:15:21.289720\n"
          ]
        }
      ]
    },
    {
      "cell_type": "code",
      "source": [
        "# Question 8:Write a Python program to convert Year/Month/Day to Day of Year.\n",
        "import datetime\n",
        "today = datetime.datetime.now()\n",
        "day_of_year = (today - datetime.datetime(today.year, 1, 1)).days + 1\n",
        "print(day_of_year)"
      ],
      "metadata": {
        "colab": {
          "base_uri": "https://localhost:8080/"
        },
        "id": "pcIk9HXRFNC_",
        "outputId": "72d528df-9529-48f1-b792-bde7d2eecd56"
      },
      "execution_count": 4,
      "outputs": [
        {
          "output_type": "stream",
          "name": "stdout",
          "text": [
            "108\n"
          ]
        }
      ]
    },
    {
      "cell_type": "code",
      "source": [
        "# Question 9 Write a Python program to get current time in milliseconds.\n",
        "import time\n",
        "milli_sec = int(round(time.time() * 1000))\n",
        "print(milli_sec)\n",
        "import time\n",
        "\n"
      ],
      "metadata": {
        "colab": {
          "base_uri": "https://localhost:8080/"
        },
        "id": "mky0NFizH__h",
        "outputId": "c08eb52f-a69a-4997-e8fc-3c19be112147"
      },
      "execution_count": 13,
      "outputs": [
        {
          "output_type": "stream",
          "name": "stdout",
          "text": [
            "1650293202047\n"
          ]
        }
      ]
    },
    {
      "cell_type": "code",
      "source": [
        "# Question 10 Write a Python program to get week number.\n",
        "import datetime\n",
        "print(datetime.date(2022, 4, 18).isocalendar()[1])\n",
        "\n"
      ],
      "metadata": {
        "colab": {
          "base_uri": "https://localhost:8080/"
        },
        "id": "PjUli357Mau_",
        "outputId": "61ae2281-a011-4936-a738-dc7664d25161"
      },
      "execution_count": 18,
      "outputs": [
        {
          "output_type": "stream",
          "name": "stdout",
          "text": [
            "16\n"
          ]
        }
      ]
    },
    {
      "cell_type": "code",
      "source": [
        "# Question 11 :Write a Python program that matches a string that has an 'a' followed by anything, ending in 'b'.\n",
        "import re\n",
        "\n",
        "\n",
        "s=input(\"Enter a string:\")\n",
        "\n",
        "x=re.findall(\"a.+b$\",s)\n",
        "print(x)\n"
      ],
      "metadata": {
        "colab": {
          "base_uri": "https://localhost:8080/"
        },
        "id": "EFYrAViYNuHG",
        "outputId": "c03705c0-107a-4d4f-b1db-a61e7ca78bf4"
      },
      "execution_count": 21,
      "outputs": [
        {
          "output_type": "stream",
          "name": "stdout",
          "text": [
            "Enter a string:habib\n",
            "['abib']\n"
          ]
        }
      ]
    },
    {
      "cell_type": "code",
      "source": [
        "# Question 12 :Write a Python program to calculate the area of a trapezoid.شبه منحرف\n",
        "\n",
        "height = float(input(\"Height of trapezoid: \"))\n",
        "base_1 = float(input(' Enter Ya helw Base one value: '))\n",
        "base_2 = float(input(' Enter Base two value We khalas: '))\n",
        "area = ((base_1 + base_2) / 2) * height\n",
        "print(\"Area is:\", area)\n"
      ],
      "metadata": {
        "colab": {
          "base_uri": "https://localhost:8080/"
        },
        "id": "TZmZwpcwQChY",
        "outputId": "33e58103-5ff9-474b-f920-9b5e727a7a56"
      },
      "execution_count": 23,
      "outputs": [
        {
          "output_type": "stream",
          "name": "stdout",
          "text": [
            "Height of trapezoid: 15\n",
            " Enter Ya helw Base one value: 12\n",
            " Enter Base two value We khalas: 20\n",
            "Area is: 240.0\n"
          ]
        }
      ]
    }
  ]
}